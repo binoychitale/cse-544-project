{
 "metadata": {
  "language_info": {
   "codemirror_mode": {
    "name": "ipython",
    "version": 3
   },
   "file_extension": ".py",
   "mimetype": "text/x-python",
   "name": "python",
   "nbconvert_exporter": "python",
   "pygments_lexer": "ipython3",
   "version": "3.9.2"
  },
  "orig_nbformat": 2,
  "kernelspec": {
   "name": "python392jvsc74a57bd0aee8b7b246df8f9039afb4144a1f6fd8d2ca17a180786b69acc140d282b71a49",
   "display_name": "Python 3.9.2 64-bit"
  },
  "metadata": {
   "interpreter": {
    "hash": "aee8b7b246df8f9039afb4144a1f6fd8d2ca17a180786b69acc140d282b71a49"
   }
  }
 },
 "nbformat": 4,
 "nbformat_minor": 2,
 "cells": [
  {
   "cell_type": "code",
   "execution_count": 1,
   "metadata": {},
   "outputs": [],
   "source": [
    "import math\n",
    "import pandas\n",
    "import numpy as np\n",
    "from matplotlib import pyplot\n",
    "pandas.set_option('display.max_columns', 100)\n",
    "#pd.set_option('max_colwidth', 500)\n",
    "pandas.set_option('display.max_rows', 500)"
   ]
  },
  {
   "cell_type": "code",
   "execution_count": 2,
   "metadata": {},
   "outputs": [],
   "source": [
    "def get_cleaned_data(filename, exploratory=False, drop_outliers=False):\n",
    "    if not exploratory:\n",
    "        data_raw = pandas.read_csv(filename)\n",
    "    else:\n",
    "        data_raw = pandas.read_csv(filename).set_index('State').transpose().reset_index().rename(columns={'index': 'Date'})\n",
    "        data_raw.columns.name = None\n",
    "    outliers = set()\n",
    "    daily_data = pandas.DataFrame()\n",
    "\n",
    "    for column in data_raw:\n",
    "        if column == 'Date':\n",
    "            daily_data[column] = data_raw[column]\n",
    "            continue\n",
    "        \n",
    "        daily_column = data_raw[column].diff().fillna(data_raw.iloc[0][column])\n",
    "        daily_data[column] = daily_column\n",
    "        sorted_column_data = np.array(daily_column.sort_values())\n",
    "\n",
    "        Q3_index = math.ceil(75/100 * len(sorted_column_data))\n",
    "        Q1_index = math.ceil(25/100 * len(sorted_column_data))\n",
    "        alpha = 1.5\n",
    "        IQR = sorted_column_data[Q3_index] - sorted_column_data[Q1_index]\n",
    "        upper_threshold = sorted_column_data[Q3_index] + alpha * IQR\n",
    "        lower_threshold = sorted_column_data[Q1_index] - alpha * IQR\n",
    "\n",
    "        column_outliers = daily_column[(daily_column != 0) & ((daily_column < lower_threshold) | (daily_column > upper_threshold))].index\n",
    "        outliers = outliers.union(column_outliers)\n",
    "        #print (\"\\nColumn: %s \\nDetected %s outlier rows \\nIQR = %s \\nlower thresold = %s \\nupper thresold = %s\" % (\n",
    "        #column, len(column_outliers), IQR, lower_threshold, upper_threshold))\n",
    "    \n",
    "    if drop_outliers:\n",
    "        data_raw.drop(outliers, inplace=True)\n",
    "        daily_data.drop(outliers, inplace=True)\n",
    "\n",
    "    return data_raw, daily_data\n",
    "\n",
    "data, daily_data = get_cleaned_data('../data/US-all/US_confirmed.csv', exploratory=True, drop_outliers=False)\n",
    "#daily_data[(daily_data['Date'] >= '2020-02-01') & (daily_data['Date'] <= '2020-06-30')][['Date', 'CA', 'NY', 'FL', 'TX']]\n"
   ]
  },
  {
   "cell_type": "code",
   "execution_count": 6,
   "metadata": {},
   "outputs": [
    {
     "output_type": "execute_result",
     "data": {
      "text/plain": [
       "Date\n",
       "1 2020       0.000000\n",
       "2 2020       0.000000\n",
       "3 2020    2401.516129\n",
       "4 2020    7666.466667\n",
       "5 2020    2141.870968\n",
       "6 2020     755.233333\n",
       "Name: NY, dtype: float64"
      ]
     },
     "metadata": {},
     "execution_count": 6
    }
   ],
   "source": [
    "#def min_max_mean_daily_cases_month(daily_data, state):\n",
    "#    state_data = daily_data[['Date', state]]\n",
    "#    print(state_data.groupby(pandas.to_datetime(state_data['Date'])).sum()\n",
    "#min_max_mean_daily_cases_month(daily_data, 'NY')\n",
    "state_data = daily_data[(daily_data['Date'] >= '2020-01-01') & (daily_data['Date'] <= '2020-06-30')].copy()\n",
    "state_data['Date'] = pandas.to_datetime(state_data['Date'])\n",
    "monthly_cases_mean = state_data.groupby(pandas.Grouper(key='Date', freq='1M')).mean()\n",
    "monthly_cases_mean.index = monthly_cases_mean.index.strftime('%-m %Y')\n",
    "monthly_cases_mean['NY']\n",
    "#print(state_data.groupby(pandas.to_datetime(state_data['Date'])).sum()"
   ]
  },
  {
   "cell_type": "code",
   "execution_count": 5,
   "metadata": {},
   "outputs": [
    {
     "output_type": "execute_result",
     "data": {
      "text/plain": [
       "'January'"
      ]
     },
     "metadata": {},
     "execution_count": 5
    }
   ],
   "source": [
    "monthly_cases_mean['NY'].idxmin()"
   ]
  },
  {
   "cell_type": "code",
   "execution_count": null,
   "metadata": {},
   "outputs": [],
   "source": []
  }
 ]
}